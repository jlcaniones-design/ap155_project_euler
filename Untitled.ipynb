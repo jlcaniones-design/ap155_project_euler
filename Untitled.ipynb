{
 "cells": [
  {
   "cell_type": "code",
   "execution_count": null,
   "id": "d474b2dd-39be-4d0b-94cc-c4dd160ec9f6",
   "metadata": {},
   "outputs": [],
   "source": [
    "initial_list = [3, 5]\n",
    "three = 3\n",
    "five = 5\n",
    "\n",
    "for i in initial_list:\n",
    "    x = three + 3\n",
    "    y = five + 5\n",
    "    initial_list.append(x)\n",
    "    initial_list.append(y)\n",
    "    \n",
    "print(initial_list)"
   ]
  },
  {
   "cell_type": "code",
   "execution_count": null,
   "id": "59a621a5-e442-4459-a772-de79db9d8302",
   "metadata": {},
   "outputs": [],
   "source": [
    "initial_list = [3, 5]\n",
    "\n",
    "for i = 0; i < 20 in initial_list[:]:\n",
    "    initial_list.append(i + 3)\n",
    "    initial_list.append(i + 5)\n",
    "    \n",
    "print(initial_list)"
   ]
  },
  {
   "cell_type": "code",
   "execution_count": null,
   "id": "107263c7-d52c-4456-84b0-446ae0a248fd",
   "metadata": {},
   "outputs": [],
   "source": []
  }
 ],
 "metadata": {
  "kernelspec": {
   "display_name": "Python 3 (ipykernel)",
   "language": "python",
   "name": "python3"
  },
  "language_info": {
   "codemirror_mode": {
    "name": "ipython",
    "version": 3
   },
   "file_extension": ".py",
   "mimetype": "text/x-python",
   "name": "python",
   "nbconvert_exporter": "python",
   "pygments_lexer": "ipython3",
   "version": "3.12.11"
  }
 },
 "nbformat": 4,
 "nbformat_minor": 5
}
inor": 5
}
