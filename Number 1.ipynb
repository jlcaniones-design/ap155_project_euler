{
 "cells": [
  {
   "cell_type": "code",
   "execution_count": 1,
   "id": "001951ba-2f22-469b-871b-c2dbf15ee485",
   "metadata": {},
   "outputs": [
    {
     "data": {
      "text/plain": [
       "233168"
      ]
     },
     "execution_count": 1,
     "metadata": {},
     "output_type": "execute_result"
    }
   ],
   "source": [
    "multiples = []\n",
    "\n",
    "for i in range(1, 1000):\n",
    "  if i % 3 == 0 or i % 5 ==0:\n",
    "    multiples.append(i)\n",
    "\n",
    "(sum((multiples)))"
   ]
  },
  {
   "cell_type": "code",
   "execution_count": null,
   "id": "24e0db56-5256-450f-a382-9d8195873401",
   "metadata": {},
   "outputs": [],
   "source": []
  }
 ],
 "metadata": {
  "kernelspec": {
   "display_name": "Python 3 (ipykernel)",
   "language": "python",
   "name": "python3"
  },
  "language_info": {
   "codemirror_mode": {
    "name": "ipython",
    "version": 3
   },
   "file_extension": ".py",
   "mimetype": "text/x-python",
   "name": "python",
   "nbconvert_exporter": "python",
   "pygments_lexer": "ipython3",
   "version": "3.12.11"
  }
 },
 "nbformat": 4,
 "nbformat_minor": 5
}
